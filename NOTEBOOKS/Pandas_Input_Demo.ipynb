{
 "cells": [
  {
   "cell_type": "markdown",
   "metadata": {},
   "source": [
    "# Pandas Input Demo\n",
    "\n",
    "This notebook describes how to read data into Pandas from various sources"
   ]
  },
  {
   "cell_type": "markdown",
   "metadata": {},
   "source": [
    "## standard imports"
   ]
  },
  {
   "cell_type": "code",
   "execution_count": 4,
   "metadata": {
    "collapsed": true
   },
   "outputs": [],
   "source": [
    "import pandas as pd\n",
    "%matplotlib inline"
   ]
  },
  {
   "cell_type": "markdown",
   "metadata": {},
   "source": [
    "## read_csv()\n",
    "Read CSV files. The delimiters and escaped characters can be tweaked as needed. There is a huge number of options for this function."
   ]
  },
  {
   "cell_type": "code",
   "execution_count": 5,
   "metadata": {},
   "outputs": [
    {
     "ename": "SyntaxError",
     "evalue": "invalid syntax (<ipython-input-5-69a578314c27>, line 3)",
     "output_type": "error",
     "traceback": [
      "\u001b[0;36m  File \u001b[0;32m\"<ipython-input-5-69a578314c27>\"\u001b[0;36m, line \u001b[0;32m3\u001b[0m\n\u001b[0;31m    print(df_csv.describe()))\u001b[0m\n\u001b[0m                            ^\u001b[0m\n\u001b[0;31mSyntaxError\u001b[0m\u001b[0;31m:\u001b[0m invalid syntax\n"
     ]
    }
   ],
   "source": [
    "df_csv = pd.read_csv('../DATA/airport_boardings.csv', thousands=',', index_col=1)\n",
    "print(df_csv.head())\n",
    "print(df_csv.describe()))"
   ]
  },
  {
   "cell_type": "markdown",
   "metadata": {},
   "source": [
    "## read_table()\n",
    "Read text files (other than CSV). This function is very similar to *read_csv()* and shares most of its options. This is the best choice for tab-delimited, space-delimited, and other delimited flat file formats. "
   ]
  },
  {
   "cell_type": "code",
   "execution_count": null,
   "metadata": {},
   "outputs": [],
   "source": [
    "df_table = pd.read_table('../DATA/columns_of_numbers.txt', delim_whitespace=True)\n",
    "# df_table.set_index = pd.date_range('1/1/2017', periods=len(df_table), freq='D')\n",
    "df_table.head()"
   ]
  },
  {
   "cell_type": "code",
   "execution_count": null,
   "metadata": {},
   "outputs": [],
   "source": [
    "df_table.plot(kind='scatter', x='Alpha', y='Zeta')"
   ]
  },
  {
   "cell_type": "markdown",
   "metadata": {},
   "source": [
    "## read_sql(), read_sql_query(), read_sql_table()\n",
    "Read data from a SQL database. It requires a connection object from one of the Python modules that follows the DB API, or it can use a SQLAlchemy DB engine object. A dataframe is created from the rows in the result set. \n",
    "\n",
    "TODO: describe read_sql_table  read_sql_query"
   ]
  },
  {
   "cell_type": "markdown",
   "metadata": {},
   "source": [
    "### read_sql()\n",
    "read_sql() is a convenience function that delegates to either *read_sql_query()* or *read_sql_table()*, as appropriate. \n",
    "It takes a query (or a table name) and the database connection. If a table is specified, the connection must be a SQLAlchemy engine. If a query is specified, it can be either a SQLAlchemy engine or a DB API connection object, as from pymssql, pyodbc, pymysql, cx_oracle, psycopg, etc. "
   ]
  },
  {
   "cell_type": "code",
   "execution_count": null,
   "metadata": {},
   "outputs": [],
   "source": [
    "import sqlite3\n",
    "conn = sqlite3.connect('../DATA/presidents.db')\n",
    "df_sql = pd.read_sql('select * from presidents', conn)\n",
    "df_sql.head()"
   ]
  },
  {
   "cell_type": "markdown",
   "metadata": {},
   "source": [
    "### read_sql_query()\n",
    "read_sql_query() populates a dataframe from a SQL query. Either a DB API connection or a SQLAlchemy engine may be specified. "
   ]
  },
  {
   "cell_type": "code",
   "execution_count": null,
   "metadata": {},
   "outputs": [],
   "source": [
    "df_sql = pd.read_sql_query('select * from presidents', conn)\n",
    "df_sql.head()"
   ]
  },
  {
   "cell_type": "markdown",
   "metadata": {},
   "source": [
    "### read_sql_table()\n",
    "read_sql_table() populates a dataframe with an entire SQL table. The connection must be a SQLAlchemy engine. "
   ]
  },
  {
   "cell_type": "code",
   "execution_count": null,
   "metadata": {},
   "outputs": [],
   "source": [
    "from sqlalchemy import create_engine\n",
    "engine = create_engine('sqlite:///../DATA/presidents.db')\n",
    "df_sql = pd.read_sql_table('presidents', engine)\n",
    "df_sql.head()"
   ]
  },
  {
   "cell_type": "markdown",
   "metadata": {},
   "source": [
    "## read_excel()\n",
    "Read data from an Excel spreadsheet. The spreadsheet may be on the local computer, or specified via a URL. \n",
    "\n",
    "<!-- TODO: use different spreadsheet for local -->"
   ]
  },
  {
   "cell_type": "markdown",
   "metadata": {},
   "source": [
    "### Local file"
   ]
  },
  {
   "cell_type": "code",
   "execution_count": null,
   "metadata": {},
   "outputs": [],
   "source": [
    "df_excel_local = pd.read_excel('../DATA/presidents.xlsx')\n",
    "df_excel_local.head()"
   ]
  },
  {
   "cell_type": "markdown",
   "metadata": {},
   "source": [
    "### URL"
   ]
  },
  {
   "cell_type": "code",
   "execution_count": null,
   "metadata": {},
   "outputs": [],
   "source": [
    "df_excel_url = pd.read_excel('http://qrc.depaul.edu/Excel_Files/Presidents.xls',\n",
    "        na_values=\"NA()\")\n",
    "df_excel_url.head()"
   ]
  },
  {
   "cell_type": "markdown",
   "metadata": {},
   "source": [
    "## read_html()\n",
    "Read data from one or more tables in a Web page. It returns a list of DataFrames, even if there is only one table in the page. "
   ]
  },
  {
   "cell_type": "code",
   "execution_count": 6,
   "metadata": {},
   "outputs": [
    {
     "name": "stdout",
     "output_type": "stream",
     "text": [
      "3\n",
      "            Gainers & Losers   Price  Change % Change\n",
      "0        DLTRDollar Tree Inc   88.53    5.21   +6.25%\n",
      "1  NLSNNielsen Holdings P...   27.34    1.24   +4.75%\n",
      "2   CXOConcho Resources I...  132.95    5.36   +4.20%\n",
      "3           QCOMQualcomm Inc   58.96    2.31   +4.08%\n",
      "4       NWLNewell Brands Inc   24.17    0.82   +3.51%\n",
      "************************************************************\n",
      "           Stock Sectors 3 Month % Change\n",
      "0         Communications           +2.08%\n",
      "1      Consumer Durables           -9.93%\n",
      "2  Consumer Non-Durables           +2.88%\n",
      "3    Commercial Services           -8.20%\n",
      "4  Electronic Technology           -7.37%\n",
      "************************************************************\n",
      "   GILD    Gilead Sciences Inc.  Unnamed: 2\n",
      "0   LVS   Las Vegas Sands Corp.         NaN\n",
      "1  CELG     Celgene Corporation         NaN\n",
      "2  AAPL              Apple Inc.         NaN\n",
      "3   TXN  Texas Instruments Inc.         NaN\n",
      "4    UA      Under Armour, Inc.         NaN\n",
      "************************************************************\n",
      "            Gainers & Losers   Price\n",
      "0        DLTRDollar Tree Inc   88.53\n",
      "1  NLSNNielsen Holdings P...   27.34\n",
      "2   CXOConcho Resources I...  132.95\n",
      "3           QCOMQualcomm Inc   58.96\n",
      "4       NWLNewell Brands Inc   24.17\n",
      "5   DGXQuest Diagnostics ...   88.10\n",
      "6            TWTRTwitter Inc   31.42\n",
      "7           JWNNordstrom Inc   52.36\n",
      "8  ALGNAlign Technology I...  227.30\n",
      "9              KSSKohls Corp   66.87\n"
     ]
    },
    {
     "data": {
      "text/plain": [
       "<matplotlib.axes._subplots.AxesSubplot at 0x118d63390>"
      ]
     },
     "execution_count": 6,
     "metadata": {},
     "output_type": "execute_result"
    },
    {
     "data": {
      "image/png": "[encoded data removed]",
      "text/plain": [
       "<matplotlib.figure.Figure at 0x1183d2438>"
      ]
     },
     "metadata": {},
     "output_type": "display_data"
    }
   ],
   "source": [
    "df_list = pd.read_html('http://money.cnn.com/data/us_markets/', header=0)\n",
    "print(len(df_list))\n",
    "for df in df_list:\n",
    "    print(df.head())\n",
    "    print('*' * 60)\n",
    "    \n",
    "gain_lose = df_list[0]\n",
    "print(gain_lose.loc[:,['Gainers & Losers', 'Price']])\n",
    "gain_lose['Price'].plot()"
   ]
  },
  {
   "cell_type": "markdown",
   "metadata": {},
   "source": [
    "## read_fwf()\n",
    "This function reads files with fixed-width fields. If the fields you want are contiguous, specify the widths of all columns with the *widths* parameter. If they are non-contiguous (you just want to pull out certain columns), specify the columns with the *colspecs* parameter, which takes a list of tuples describing the beginning and end end of each desired column. If neither *widths* or *colspecs* is given, *read_fwf()* tries to infer the columns. "
   ]
  },
  {
   "cell_type": "code",
   "execution_count": 7,
   "metadata": {},
   "outputs": [
    {
     "name": "stdout",
     "output_type": "stream",
     "text": [
      "                     country  median_age\n",
      "1                     Monaco        52.0\n",
      "2                      Japan        46.0\n",
      "3                    Germany        46.0\n",
      "4  Saint Pierre and Miquelon        45.0\n",
      "5             Virgin Islands        45.0\n",
      "country       Japan\n",
      "median_age       46\n",
      "Name: 2, dtype: object\n"
     ]
    }
   ],
   "source": [
    "df_fwf = pd.read_fwf('../DATA/world_median_ages.txt', \n",
    "    names=['country', 'median_age'], widths=[7,50,4], index_col=0)\n",
    "print(df_fwf.head())\n",
    "print(df_fwf.iloc[1])"
   ]
  },
  {
   "cell_type": "code",
   "execution_count": 8,
   "metadata": {},
   "outputs": [
    {
     "name": "stdout",
     "output_type": "stream",
     "text": [
      "<class 'matplotlib.axes._subplots.AxesSubplot'>\n"
     ]
    },
    {
     "data": {
      "text/plain": [
       "<matplotlib.text.Text at 0x118d8f588>"
      ]
     },
     "execution_count": 8,
     "metadata": {},
     "output_type": "execute_result"
    },
    {
     "data": {
      "image/png": "[encoded data removed]",
      "text/plain": [
       "<matplotlib.figure.Figure at 0x11d6decc0>"
      ]
     },
     "metadata": {},
     "output_type": "display_data"
    }
   ],
   "source": [
    "ax = df_fwf.iloc[-20:].plot(kind='barh', x='country', y='median_age')\n",
    "print(type(ax))\n",
    "ax.set_ylabel('Median Age')\n"
   ]
  },
  {
   "cell_type": "code",
   "execution_count": null,
   "metadata": {
    "collapsed": true
   },
   "outputs": [],
   "source": []
  }
 ],
 "metadata": {
  "kernelspec": {
   "display_name": "Python 3",
   "language": "python",
   "name": "python3"
  },
  "language_info": {
   "codemirror_mode": {
    "name": "ipython",
    "version": 3
   },
   "file_extension": ".py",
   "mimetype": "text/x-python",
   "name": "python",
   "nbconvert_exporter": "python",
   "pygments_lexer": "ipython3",
   "version": "3.6.2"
  }
 },
 "nbformat": 4,
 "nbformat_minor": 2
}
